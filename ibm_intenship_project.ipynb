{
 "cells": [
  {
   "cell_type": "code",
   "execution_count": 1,
   "id": "acb747b3",
   "metadata": {},
   "outputs": [],
   "source": [
    "from tensorflow.compat.v1 import ConfigProto\n",
    "from tensorflow.compat.v1 import InteractiveSession\n",
    "\n",
    "config = ConfigProto()\n",
    "config.gpu_options.per_process_gpu_memory_fraction = 0.5\n",
    "config.gpu_options.allow_growth = True\n",
    "session = InteractiveSession(config=config)"
   ]
  },
  {
   "cell_type": "code",
   "execution_count": 2,
   "id": "736edd1a",
   "metadata": {},
   "outputs": [
    {
     "name": "stdout",
     "output_type": "stream",
     "text": [
      "2.5.3\n"
     ]
    }
   ],
   "source": [
    "import tensorflow as tf\n",
    "print(tf.__version__)"
   ]
  },
  {
   "cell_type": "code",
   "execution_count": 3,
   "id": "fe60484f",
   "metadata": {},
   "outputs": [],
   "source": [
    "# import the libraries as shown below\n",
    "\n",
    "from tensorflow.keras.layers import Input, Lambda, Dense, Flatten\n",
    "from tensorflow.keras.models import Model\n",
    "from tensorflow.keras.applications.vgg16 import VGG16\n",
    "from tensorflow.keras.applications.vgg19 import VGG19\n",
    "from tensorflow.keras.preprocessing import image\n",
    "from tensorflow.keras.preprocessing.image import ImageDataGenerator,load_img\n",
    "from tensorflow.keras.models import Sequential\n",
    "import numpy as np\n",
    "from glob import glob\n",
    "#import matplotlib.pyplot as plt"
   ]
  },
  {
   "cell_type": "code",
   "execution_count": 4,
   "id": "25f1eb4a",
   "metadata": {},
   "outputs": [],
   "source": [
    "# re-size all the images to this\n",
    "IMAGE_SIZE = [224, 224]\n",
    "\n",
    "train_path = 'C:/Users/priya/Downloads/sp/dataset/train/'\n",
    "valid_path = 'C:/Users/priya/Downloads/sp/dataset/test/'"
   ]
  },
  {
   "cell_type": "code",
   "execution_count": 5,
   "id": "3b721c1e",
   "metadata": {},
   "outputs": [],
   "source": [
    "# Import the VGG16 library as shown below and add preprocessing layer to the front of VGG\n",
    "# Here we will be using imagenet weights\n",
    "\n",
    "vgg16 = VGG16(input_shape=IMAGE_SIZE + [3], weights='imagenet', include_top=False)"
   ]
  },
  {
   "cell_type": "code",
   "execution_count": 6,
   "id": "0bb75814",
   "metadata": {},
   "outputs": [],
   "source": [
    "# don't train existing weights\n",
    "for layer in vgg16.layers:\n",
    "    layer.trainable = False"
   ]
  },
  {
   "cell_type": "code",
   "execution_count": 7,
   "id": "2966bd70",
   "metadata": {},
   "outputs": [],
   "source": [
    "folders = glob('C:/Users/priya/Downloads/sp/dataset/test/*')"
   ]
  },
  {
   "cell_type": "code",
   "execution_count": 8,
   "id": "b395e008",
   "metadata": {},
   "outputs": [
    {
     "data": {
      "text/plain": [
       "['C:/Users/priya/Downloads/sp/dataset/test\\\\aloperia areata',\n",
       " 'C:/Users/priya/Downloads/sp/dataset/test\\\\beau_s lines',\n",
       " 'C:/Users/priya/Downloads/sp/dataset/test\\\\bluish nail',\n",
       " 'C:/Users/priya/Downloads/sp/dataset/test\\\\clubbing',\n",
       " 'C:/Users/priya/Downloads/sp/dataset/test\\\\Darier_s disease',\n",
       " 'C:/Users/priya/Downloads/sp/dataset/test\\\\eczema',\n",
       " 'C:/Users/priya/Downloads/sp/dataset/test\\\\half and half nailes (Lindsay_s nails)',\n",
       " 'C:/Users/priya/Downloads/sp/dataset/test\\\\koilonychia',\n",
       " 'C:/Users/priya/Downloads/sp/dataset/test\\\\leukonychia',\n",
       " 'C:/Users/priya/Downloads/sp/dataset/test\\\\Muehrck-e_s lines',\n",
       " 'C:/Users/priya/Downloads/sp/dataset/test\\\\onycholycis',\n",
       " 'C:/Users/priya/Downloads/sp/dataset/test\\\\pale nail',\n",
       " 'C:/Users/priya/Downloads/sp/dataset/test\\\\red lunula',\n",
       " 'C:/Users/priya/Downloads/sp/dataset/test\\\\splinter hemmorrage',\n",
       " 'C:/Users/priya/Downloads/sp/dataset/test\\\\terry_s nail',\n",
       " 'C:/Users/priya/Downloads/sp/dataset/test\\\\white nail',\n",
       " 'C:/Users/priya/Downloads/sp/dataset/test\\\\yellow nails']"
      ]
     },
     "execution_count": 8,
     "metadata": {},
     "output_type": "execute_result"
    }
   ],
   "source": [
    "folders"
   ]
  },
  {
   "cell_type": "code",
   "execution_count": 9,
   "id": "74d9408e",
   "metadata": {},
   "outputs": [],
   "source": [
    "# our layers - you can add more if you want\n",
    "x = Flatten()(vgg16.output)"
   ]
  },
  {
   "cell_type": "code",
   "execution_count": 10,
   "id": "e01ce845",
   "metadata": {},
   "outputs": [
    {
     "data": {
      "text/plain": [
       "17"
      ]
     },
     "execution_count": 10,
     "metadata": {},
     "output_type": "execute_result"
    }
   ],
   "source": [
    "len(folders)"
   ]
  },
  {
   "cell_type": "code",
   "execution_count": 11,
   "id": "15247d7b",
   "metadata": {},
   "outputs": [],
   "source": [
    "prediction = Dense(len(folders), activation='softmax')(x)\n",
    "\n",
    "# create a model object\n",
    "model = Model(inputs=vgg16.input, outputs=prediction)"
   ]
  },
  {
   "cell_type": "code",
   "execution_count": 12,
   "id": "18e194d4",
   "metadata": {},
   "outputs": [
    {
     "name": "stdout",
     "output_type": "stream",
     "text": [
      "Model: \"model\"\n",
      "_________________________________________________________________\n",
      "Layer (type)                 Output Shape              Param #   \n",
      "=================================================================\n",
      "input_1 (InputLayer)         [(None, 224, 224, 3)]     0         \n",
      "_________________________________________________________________\n",
      "block1_conv1 (Conv2D)        (None, 224, 224, 64)      1792      \n",
      "_________________________________________________________________\n",
      "block1_conv2 (Conv2D)        (None, 224, 224, 64)      36928     \n",
      "_________________________________________________________________\n",
      "block1_pool (MaxPooling2D)   (None, 112, 112, 64)      0         \n",
      "_________________________________________________________________\n",
      "block2_conv1 (Conv2D)        (None, 112, 112, 128)     73856     \n",
      "_________________________________________________________________\n",
      "block2_conv2 (Conv2D)        (None, 112, 112, 128)     147584    \n",
      "_________________________________________________________________\n",
      "block2_pool (MaxPooling2D)   (None, 56, 56, 128)       0         \n",
      "_________________________________________________________________\n",
      "block3_conv1 (Conv2D)        (None, 56, 56, 256)       295168    \n",
      "_________________________________________________________________\n",
      "block3_conv2 (Conv2D)        (None, 56, 56, 256)       590080    \n",
      "_________________________________________________________________\n",
      "block3_conv3 (Conv2D)        (None, 56, 56, 256)       590080    \n",
      "_________________________________________________________________\n",
      "block3_pool (MaxPooling2D)   (None, 28, 28, 256)       0         \n",
      "_________________________________________________________________\n",
      "block4_conv1 (Conv2D)        (None, 28, 28, 512)       1180160   \n",
      "_________________________________________________________________\n",
      "block4_conv2 (Conv2D)        (None, 28, 28, 512)       2359808   \n",
      "_________________________________________________________________\n",
      "block4_conv3 (Conv2D)        (None, 28, 28, 512)       2359808   \n",
      "_________________________________________________________________\n",
      "block4_pool (MaxPooling2D)   (None, 14, 14, 512)       0         \n",
      "_________________________________________________________________\n",
      "block5_conv1 (Conv2D)        (None, 14, 14, 512)       2359808   \n",
      "_________________________________________________________________\n",
      "block5_conv2 (Conv2D)        (None, 14, 14, 512)       2359808   \n",
      "_________________________________________________________________\n",
      "block5_conv3 (Conv2D)        (None, 14, 14, 512)       2359808   \n",
      "_________________________________________________________________\n",
      "block5_pool (MaxPooling2D)   (None, 7, 7, 512)         0         \n",
      "_________________________________________________________________\n",
      "flatten (Flatten)            (None, 25088)             0         \n",
      "_________________________________________________________________\n",
      "dense (Dense)                (None, 17)                426513    \n",
      "=================================================================\n",
      "Total params: 15,141,201\n",
      "Trainable params: 426,513\n",
      "Non-trainable params: 14,714,688\n",
      "_________________________________________________________________\n"
     ]
    }
   ],
   "source": [
    "# view the structure of the model\n",
    "model.summary()"
   ]
  },
  {
   "cell_type": "code",
   "execution_count": 13,
   "id": "0f8162c5",
   "metadata": {},
   "outputs": [],
   "source": [
    "# tell the model what cost and optimization method to use\n",
    "model.compile(\n",
    "  loss='categorical_crossentropy',\n",
    "  optimizer='adam',\n",
    "  metrics=['accuracy']\n",
    ")"
   ]
  },
  {
   "cell_type": "code",
   "execution_count": 14,
   "id": "e9097a75",
   "metadata": {},
   "outputs": [],
   "source": [
    "# Use the Image Data Generator to import the images from the dataset\n",
    "from tensorflow.keras.preprocessing.image import ImageDataGenerator\n",
    "\n",
    "train_datagen =ImageDataGenerator(rescale = 1./255,\n",
    "                                   shear_range = 0.2,\n",
    "                                   zoom_range = 0.2,\n",
    "                                   horizontal_flip = True)\n",
    "\n",
    "test_datagen = ImageDataGenerator(rescale = 1./255)"
   ]
  },
  {
   "cell_type": "code",
   "execution_count": 15,
   "id": "e9652e12",
   "metadata": {
    "scrolled": true
   },
   "outputs": [
    {
     "name": "stdout",
     "output_type": "stream",
     "text": [
      "Found 647 images belonging to 17 classes.\n"
     ]
    }
   ],
   "source": [
    "# Make sure you provide the same target size as initialied for the image size\n",
    "training_set = train_datagen.flow_from_directory('C:/Users/priya/Downloads/sp/dataset/train/',\n",
    "                                                 target_size = (224, 224),\n",
    "                                                 batch_size = 32,\n",
    "                                                 class_mode = 'categorical')"
   ]
  },
  {
   "cell_type": "code",
   "execution_count": 16,
   "id": "ff92a6ad",
   "metadata": {},
   "outputs": [
    {
     "name": "stdout",
     "output_type": "stream",
     "text": [
      "Found 183 images belonging to 17 classes.\n"
     ]
    }
   ],
   "source": [
    "test_set = test_datagen.flow_from_directory('C:/Users/priya/Downloads/sp/dataset/test/',\n",
    "                                            target_size = (224, 224),\n",
    "                                            batch_size = 32,\n",
    "                                            class_mode = 'categorical')"
   ]
  },
  {
   "cell_type": "code",
   "execution_count": 17,
   "id": "9ffcf215",
   "metadata": {},
   "outputs": [
    {
     "name": "stderr",
     "output_type": "stream",
     "text": [
      "C:\\Users\\priya\\AppData\\Roaming\\Python\\Python39\\site-packages\\tensorflow\\python\\keras\\engine\\training.py:1935: UserWarning: `Model.fit_generator` is deprecated and will be removed in a future version. Please use `Model.fit`, which supports generators.\n",
      "  warnings.warn('`Model.fit_generator` is deprecated and '\n"
     ]
    },
    {
     "name": "stdout",
     "output_type": "stream",
     "text": [
      "Epoch 1/20\n",
      "21/21 [==============================] - 158s 8s/step - loss: 3.5277 - accuracy: 0.1236 - val_loss: 2.6795 - val_accuracy: 0.2077\n",
      "Epoch 2/20\n",
      "21/21 [==============================] - 156s 7s/step - loss: 2.5545 - accuracy: 0.2442 - val_loss: 2.0217 - val_accuracy: 0.3989\n",
      "Epoch 3/20\n",
      "21/21 [==============================] - 156s 7s/step - loss: 2.1299 - accuracy: 0.3694 - val_loss: 1.9281 - val_accuracy: 0.3989\n",
      "Epoch 4/20\n",
      "21/21 [==============================] - 157s 7s/step - loss: 1.8870 - accuracy: 0.4250 - val_loss: 1.6616 - val_accuracy: 0.5301\n",
      "Epoch 5/20\n",
      "21/21 [==============================] - 156s 7s/step - loss: 1.6286 - accuracy: 0.5054 - val_loss: 1.4322 - val_accuracy: 0.5956\n",
      "Epoch 6/20\n",
      "21/21 [==============================] - 156s 8s/step - loss: 1.5368 - accuracy: 0.5270 - val_loss: 1.5499 - val_accuracy: 0.6066\n",
      "Epoch 7/20\n",
      "21/21 [==============================] - 156s 7s/step - loss: 1.3669 - accuracy: 0.6090 - val_loss: 1.2225 - val_accuracy: 0.6339\n",
      "Epoch 8/20\n",
      "21/21 [==============================] - 156s 7s/step - loss: 1.2239 - accuracy: 0.6692 - val_loss: 1.4966 - val_accuracy: 0.6175\n",
      "Epoch 9/20\n",
      "21/21 [==============================] - 156s 7s/step - loss: 1.2187 - accuracy: 0.6754 - val_loss: 1.2319 - val_accuracy: 0.6721\n",
      "Epoch 10/20\n",
      "21/21 [==============================] - 156s 7s/step - loss: 1.1668 - accuracy: 0.6662 - val_loss: 1.0019 - val_accuracy: 0.7268\n",
      "Epoch 11/20\n",
      "21/21 [==============================] - 156s 7s/step - loss: 1.0372 - accuracy: 0.7063 - val_loss: 0.8938 - val_accuracy: 0.7596\n",
      "Epoch 12/20\n",
      "21/21 [==============================] - 156s 7s/step - loss: 0.9785 - accuracy: 0.7264 - val_loss: 0.8316 - val_accuracy: 0.8142\n",
      "Epoch 13/20\n",
      "21/21 [==============================] - 156s 7s/step - loss: 0.8908 - accuracy: 0.7697 - val_loss: 0.9056 - val_accuracy: 0.7486\n",
      "Epoch 14/20\n",
      "21/21 [==============================] - 156s 7s/step - loss: 0.9437 - accuracy: 0.7388 - val_loss: 0.7000 - val_accuracy: 0.8361\n",
      "Epoch 15/20\n",
      "21/21 [==============================] - 156s 7s/step - loss: 0.7864 - accuracy: 0.7960 - val_loss: 0.6883 - val_accuracy: 0.8415\n",
      "Epoch 16/20\n",
      "21/21 [==============================] - 127s 6s/step - loss: 0.7386 - accuracy: 0.8145 - val_loss: 0.6393 - val_accuracy: 0.8634\n",
      "Epoch 17/20\n",
      "21/21 [==============================] - 111s 6s/step - loss: 0.7071 - accuracy: 0.8207 - val_loss: 0.5739 - val_accuracy: 0.8689\n",
      "Epoch 18/20\n",
      "21/21 [==============================] - 116s 6s/step - loss: 0.6653 - accuracy: 0.8393 - val_loss: 0.5928 - val_accuracy: 0.8852\n",
      "Epoch 19/20\n",
      "21/21 [==============================] - 120s 6s/step - loss: 0.7321 - accuracy: 0.7975 - val_loss: 0.6472 - val_accuracy: 0.8415\n",
      "Epoch 20/20\n",
      "21/21 [==============================] - 119s 6s/step - loss: 0.6468 - accuracy: 0.8454 - val_loss: 0.6455 - val_accuracy: 0.8306\n"
     ]
    }
   ],
   "source": [
    "# fit the model\n",
    "r = model.fit_generator(\n",
    "  training_set,\n",
    "  validation_data=test_set,\n",
    "  epochs=20,\n",
    "  steps_per_epoch=len(training_set),\n",
    "  validation_steps=len(test_set)\n",
    ")"
   ]
  },
  {
   "cell_type": "code",
   "execution_count": 18,
   "id": "9d4ac72d",
   "metadata": {},
   "outputs": [],
   "source": [
    "import matplotlib.pyplot as plt"
   ]
  },
  {
   "cell_type": "code",
   "execution_count": 19,
   "id": "14bffd42",
   "metadata": {},
   "outputs": [
    {
     "data": {
      "image/png": "[encoded data removed]",
      "text/plain": [
       "<Figure size 432x288 with 1 Axes>"
      ]
     },
     "metadata": {
      "needs_background": "light"
     },
     "output_type": "display_data"
    },
    {
     "data": {
      "image/png": "[encoded data removed]",
      "text/plain": [
       "<Figure size 432x288 with 1 Axes>"
      ]
     },
     "metadata": {
      "needs_background": "light"
     },
     "output_type": "display_data"
    },
    {
     "data": {
      "text/plain": [
       "<Figure size 432x288 with 0 Axes>"
      ]
     },
     "metadata": {},
     "output_type": "display_data"
    }
   ],
   "source": [
    "# plot the loss\n",
    "plt.plot(r.history['loss'], label='train loss')\n",
    "plt.plot(r.history['val_loss'], label='val loss')\n",
    "plt.legend()\n",
    "plt.show()\n",
    "plt.savefig('LossVal_loss')\n",
    "\n",
    "# plot the accuracy\n",
    "plt.plot(r.history['accuracy'], label='train acc')\n",
    "plt.plot(r.history['val_accuracy'], label='val acc')\n",
    "plt.legend()\n",
    "plt.show()\n",
    "plt.savefig('AccVal_acc')"
   ]
  },
  {
   "cell_type": "code",
   "execution_count": 20,
   "id": "10c512c5",
   "metadata": {},
   "outputs": [],
   "source": [
    "# save it as a h5 file\n",
    "\n",
    "\n",
    "from tensorflow.keras.models import load_model\n",
    "\n",
    "model.save('ibm_model_vgg16.h5')"
   ]
  },
  {
   "cell_type": "code",
   "execution_count": 21,
   "id": "70fd5db8",
   "metadata": {},
   "outputs": [],
   "source": [
    "y_pred = model.predict(test_set)"
   ]
  },
  {
   "cell_type": "code",
   "execution_count": 22,
   "id": "bc6a041f",
   "metadata": {},
   "outputs": [
    {
     "data": {
      "text/plain": [
       "array([[6.2101673e-05, 7.0642258e-05, 8.2928425e-04, ..., 2.2254114e-03,\n",
       "        4.3178714e-04, 9.6462560e-01],\n",
       "       [6.1993115e-02, 8.0080217e-01, 1.5768653e-03, ..., 2.1420283e-02,\n",
       "        1.6269771e-02, 1.0507339e-02],\n",
       "       [1.7082893e-04, 3.0074595e-04, 9.7600877e-01, ..., 8.6338847e-04,\n",
       "        1.2230176e-04, 1.7233575e-05],\n",
       "       ...,\n",
       "       [2.5407100e-02, 2.1979804e-03, 9.8211586e-04, ..., 3.1303286e-04,\n",
       "        7.8254298e-04, 3.6784416e-04],\n",
       "       [1.0669499e-03, 1.4949790e-01, 6.2634937e-02, ..., 2.5613816e-02,\n",
       "        2.5397073e-03, 4.8730648e-03],\n",
       "       [2.3647837e-02, 1.5762402e-01, 3.0954208e-04, ..., 2.7767146e-02,\n",
       "        1.1855203e-03, 3.6824234e-02]], dtype=float32)"
      ]
     },
     "execution_count": 22,
     "metadata": {},
     "output_type": "execute_result"
    }
   ],
   "source": [
    "y_pred"
   ]
  },
  {
   "cell_type": "code",
   "execution_count": 23,
   "id": "5ab5c49f",
   "metadata": {},
   "outputs": [],
   "source": [
    "import numpy as np\n",
    "y_pred = np.argmax(y_pred, axis=1)"
   ]
  },
  {
   "cell_type": "code",
   "execution_count": 24,
   "id": "d8f37d64",
   "metadata": {},
   "outputs": [
    {
     "data": {
      "text/plain": [
       "array([16,  1,  2, 16,  0,  4,  7,  1,  2,  5,  1, 10, 16, 14,  9, 10,  0,\n",
       "        8,  2, 10, 11,  6, 11,  2,  0,  5,  8,  5,  7,  2, 16, 16, 15,  7,\n",
       "       14,  7,  1,  8,  1, 14, 12, 13,  6,  4, 14, 16,  3, 10, 10,  5,  3,\n",
       "        6, 14,  0,  1,  4,  1,  9,  4, 16,  3,  1,  5,  1,  0, 11,  0, 10,\n",
       "        5, 13,  7,  5, 11,  1,  3,  8,  0, 10, 12, 10, 13,  4,  5, 15,  4,\n",
       "        7, 15,  0, 12,  6, 10,  1,  4,  4,  6,  3,  4,  8,  4,  1, 10,  4,\n",
       "        2,  7, 15,  6, 14, 13,  0,  2, 12,  6,  0, 12, 13,  8,  1,  4,  2,\n",
       "        2,  1,  0,  4,  2,  0,  6,  8,  4,  4,  1,  7, 13,  6,  1,  4,  2,\n",
       "       15,  4,  7,  5,  4, 11, 13, 10, 10,  0,  1,  5,  0,  4,  1,  7,  2,\n",
       "        3,  5,  6, 10, 11,  2,  2, 15, 12, 13,  1,  2,  1, 10,  9,  1,  5,\n",
       "       13, 16,  4,  7,  7,  5, 14,  7, 10,  1,  7, 10, 13], dtype=int64)"
      ]
     },
     "execution_count": 24,
     "metadata": {},
     "output_type": "execute_result"
    }
   ],
   "source": [
    "y_pred"
   ]
  },
  {
   "cell_type": "code",
   "execution_count": 25,
   "id": "7adc5c30",
   "metadata": {},
   "outputs": [],
   "source": [
    "from tensorflow.keras.models import load_model\n",
    "from tensorflow.keras.preprocessing import image\n",
    "from tensorflow.keras.applications.mobilenet import preprocess_input"
   ]
  },
  {
   "cell_type": "code",
   "execution_count": 26,
   "id": "f0f5cbfc",
   "metadata": {},
   "outputs": [],
   "source": [
    "model=load_model('ibm_model_vgg16.h5')"
   ]
  },
  {
   "cell_type": "code",
   "execution_count": 30,
   "id": "e409f81b",
   "metadata": {},
   "outputs": [],
   "source": [
    "img_data='C:/Users/priya/Downloads/image1.jpg'"
   ]
  },
  {
   "cell_type": "code",
   "execution_count": 31,
   "id": "52834280",
   "metadata": {},
   "outputs": [
    {
     "data": {
      "text/plain": [
       "'C:/Users/priya/Downloads/image1.jpg'"
      ]
     },
     "execution_count": 31,
     "metadata": {},
     "output_type": "execute_result"
    }
   ],
   "source": [
    "img_data"
   ]
  },
  {
   "cell_type": "code",
   "execution_count": 32,
   "id": "05fcfc6e",
   "metadata": {},
   "outputs": [],
   "source": [
    "img=image.load_img('C:/Users/priya/Downloads/image1.jpg',target_size=(224,224))"
   ]
  },
  {
   "cell_type": "code",
   "execution_count": 33,
   "id": "2de4c061",
   "metadata": {},
   "outputs": [
    {
     "data": {
      "text/plain": [
       "array([[[209., 176., 167.],\n",
       "        [211., 178., 169.],\n",
       "        [217., 184., 175.],\n",
       "        ...,\n",
       "        [221., 187., 175.],\n",
       "        [211., 177., 168.],\n",
       "        [221., 187., 178.]],\n",
       "\n",
       "       [[208., 175., 166.],\n",
       "        [216., 183., 174.],\n",
       "        [215., 182., 173.],\n",
       "        ...,\n",
       "        [228., 194., 182.],\n",
       "        [205., 171., 161.],\n",
       "        [219., 185., 175.]],\n",
       "\n",
       "       [[216., 183., 174.],\n",
       "        [214., 181., 172.],\n",
       "        [219., 186., 177.],\n",
       "        ...,\n",
       "        [220., 186., 174.],\n",
       "        [220., 187., 172.],\n",
       "        [204., 171., 156.]],\n",
       "\n",
       "       ...,\n",
       "\n",
       "       [[107.,  88.,  73.],\n",
       "        [108.,  89.,  74.],\n",
       "        [108.,  89.,  74.],\n",
       "        ...,\n",
       "        [136., 103.,  84.],\n",
       "        [132., 101.,  80.],\n",
       "        [133., 102.,  81.]],\n",
       "\n",
       "       [[ 95.,  78.,  60.],\n",
       "        [ 91.,  74.,  56.],\n",
       "        [102.,  85.,  67.],\n",
       "        ...,\n",
       "        [134., 107.,  86.],\n",
       "        [133., 106.,  85.],\n",
       "        [128., 101.,  80.]],\n",
       "\n",
       "       [[104.,  87.,  69.],\n",
       "        [ 97.,  80.,  62.],\n",
       "        [ 95.,  78.,  60.],\n",
       "        ...,\n",
       "        [139., 112.,  91.],\n",
       "        [129., 102.,  81.],\n",
       "        [141., 114.,  93.]]], dtype=float32)"
      ]
     },
     "execution_count": 33,
     "metadata": {},
     "output_type": "execute_result"
    }
   ],
   "source": [
    "x=image.img_to_array(img)\n",
    "x"
   ]
  },
  {
   "cell_type": "code",
   "execution_count": 34,
   "id": "fb1bb3bb",
   "metadata": {},
   "outputs": [
    {
     "data": {
      "text/plain": [
       "(224, 224, 3)"
      ]
     },
     "execution_count": 34,
     "metadata": {},
     "output_type": "execute_result"
    }
   ],
   "source": [
    "x.shape"
   ]
  },
  {
   "cell_type": "code",
   "execution_count": 35,
   "id": "3e3bb030",
   "metadata": {},
   "outputs": [],
   "source": [
    "x=x/255"
   ]
  },
  {
   "cell_type": "code",
   "execution_count": 37,
   "id": "0a4515d6",
   "metadata": {},
   "outputs": [
    {
     "data": {
      "text/plain": [
       "(1, 224, 224, 3)"
      ]
     },
     "execution_count": 37,
     "metadata": {},
     "output_type": "execute_result"
    }
   ],
   "source": [
    "import numpy as np\n",
    "import tensorflow as tf\n",
    "x=np.expand_dims(x,axis=0)\n",
    "img_data=preprocess_input(x)\n",
    "img_data.shape"
   ]
  },
  {
   "cell_type": "code",
   "execution_count": 38,
   "id": "bdc1614c",
   "metadata": {},
   "outputs": [
    {
     "data": {
      "text/plain": [
       "array([[0.00173899, 0.12200276, 0.01464145, 0.14394037, 0.14136082,\n",
       "        0.01818192, 0.04773701, 0.00609318, 0.04037929, 0.01116998,\n",
       "        0.01306042, 0.00433668, 0.00216006, 0.01861206, 0.39080215,\n",
       "        0.005971  , 0.01781181]], dtype=float32)"
      ]
     },
     "execution_count": 38,
     "metadata": {},
     "output_type": "execute_result"
    }
   ],
   "source": [
    "model.predict(img_data)"
   ]
  },
  {
   "cell_type": "code",
   "execution_count": 39,
   "id": "7b78f80b",
   "metadata": {},
   "outputs": [],
   "source": [
    "a=np.argmax(model.predict(img_data), axis=1)"
   ]
  },
  {
   "cell_type": "code",
   "execution_count": 40,
   "id": "8b40a5ab",
   "metadata": {},
   "outputs": [
    {
     "data": {
      "text/plain": [
       "array([False])"
      ]
     },
     "execution_count": 40,
     "metadata": {},
     "output_type": "execute_result"
    }
   ],
   "source": [
    "a==1"
   ]
  },
  {
   "cell_type": "code",
   "execution_count": 41,
   "id": "d708a257",
   "metadata": {},
   "outputs": [],
   "source": [
    "import tensorflow as tf"
   ]
  },
  {
   "cell_type": "code",
   "execution_count": 42,
   "id": "e0777dc5",
   "metadata": {},
   "outputs": [
    {
     "data": {
      "text/plain": [
       "'2.5.3'"
      ]
     },
     "execution_count": 42,
     "metadata": {},
     "output_type": "execute_result"
    }
   ],
   "source": [
    "tf.__version__"
   ]
  },
  {
   "cell_type": "code",
   "execution_count": null,
   "id": "d191d65d",
   "metadata": {},
   "outputs": [],
   "source": []
  }
 ],
 "metadata": {
  "kernelspec": {
   "display_name": "Python 3 (ipykernel)",
   "language": "python",
   "name": "python3"
  },
  "language_info": {
   "codemirror_mode": {
    "name": "ipython",
    "version": 3
   },
   "file_extension": ".py",
   "mimetype": "text/x-python",
   "name": "python",
   "nbconvert_exporter": "python",
   "pygments_lexer": "ipython3",
   "version": "3.9.12"
  }
 },
 "nbformat": 4,
 "nbformat_minor": 5
}
